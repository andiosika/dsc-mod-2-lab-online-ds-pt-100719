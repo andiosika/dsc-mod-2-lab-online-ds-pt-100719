{
 "cells": [
  {
   "cell_type": "markdown",
   "metadata": {},
   "source": [
    "# Module 2 Summative Lab\n",
    "\n",
    "## Introduction\n",
    "\n",
    "For today's section, we're going to work on a single big lab to apply everything we've learned in Mod 2!\n",
    "\n",
    "## About This Lab\n",
    "\n",
    "A quick note before getting started--this lab isn't like other labs you seen so far. This lab is meant to take ~8 hours to complete, so it's much longer and more challenging than the average labs you've seen so far. If you feel like this lab is challenging or that you might be struggling a bit, don't fret--that's by design! With everything we've learned about Web Scraping, APIs, and Databases, the best way to test our knowledge of it is to build something substantial! \n",
    "\n",
    "## The Project\n",
    "\n",
    "In this lab, we're going to make use of everything we've learned about APIs, databases, and Object-Oriented Programming to **_Extract, Transform, and Load_** (or **_ETL_**, for short) some data from a SQL database into a MongoDB Database. \n",
    "\n",
    "You'll find a database containing information about soccer teams and the matches they've played in the file `database.sqlite`. For this project, our goal is to get the data we think is important from this SQL database, do some calculations and data transformation, and then store everything in a MongoDB database. \n",
    "\n",
    "Let's get into the specifics of this project.\n",
    "\n",
    "### The Goal\n",
    "\n",
    "Start by examining the data dictionary for the SQL database we'll be working with, which comes from this [kaggle page](https://www.kaggle.com/laudanum/footballdelphi).  Familiarize yourself with the tables it contains, and what each column means. We'll be using this database to get data on each soccer team, calculate some summary statistics, and then store each in a MongoDB database. \n",
    "\n",
    "Upon completion of this lab, each unique team in this dataset should have a record in the MongoDB instance containing the following information:\n",
    "\n",
    "* The name of the team\n",
    "* The total number of goals scored by the team during the 2011 season\n",
    "* The total number of wins the team earned during the 2011 season\n",
    "* A histogram visualization of the team's wins and losses for the 2011 season (store the visualization directly by assigning it to a variable)\n",
    "* The team's win percentage on days where it was raining during games in the 2011 season. \n",
    "\n",
    "#### Getting the Weather Data\n",
    "\n",
    "Note that for this last calculation, you'll need to figure out if it was raining or not during the game. The database itself does not contain this information, but it does contain the date on which the game was played. For this, you'll need to use the [DarkSky API](https://darksky.net/dev) to get the historical weather data for that day. Note that each game is played in a different location, and this information is not contained in our SQL database. However, the teams in this database are largely german, so go ahead and just use the weather in Berlin, Germany as a proxy for this information. If it was raining in Berlin on the day the game was played, count that as rain game--**_you do not need to try and figure out the actual weather at each game's location, because we don't have that information!_**\n",
    "\n",
    "#### NOTE: The DarkSky API is limited to 1000 free API calls a day, so be sure to test your model on very small samples. Otherwise, you'll hit the rate limit!\n",
    "\n",
    "## Project Architecture\n",
    "\n",
    "Unlike previous labs, this lab is more open-ended, and will require you to make design decisions and plan out your strategy for building a system with this many working parts. However, **_using Object-Oriented Programming is a requirement for this project--you must create at least 2 separate, well-structured classes in your solution!_** Although it may seem easier to \"just start coding\", this is a classic beginner's mistake. Instead, think about separating out the different functionalities you'll need to reach your goal, and then build classes to handle each. For instance, at a minimum, you'll need to:\n",
    "\n",
    "* Query the SQL database\n",
    "* Calculate summary statistics\n",
    "* Get the weather data from the DarkSky API\n",
    "* Load the data into MongoDB\n",
    "\n",
    "We **_strongly recommend_** you consider creating separate classes for handling at least some of these tasks.  Be sure to plan the inputs, outputs, and methods for each class before you begin coding! \n",
    "\n",
    "**_NOTE:_** We have provided some empty classes below. You are welcome to delete them and use a different architecture for this project if you so choose.  You do not have to use each of them, they are just there to give you an idea of what sorts of classes you may want to consider using.\n",
    "\n",
    "### Rapid Prototyping and Refactoring\n",
    "\n",
    "It's totally okay to try to get a task working without using OOP. For instance, when experimenting with the DarkSky API for getting historical weather data, it makes sense to just write the code in the cells and rapidly iterate until you get it all working. However, once you get it working, you're not done--you should then **_Refactor_** your code into functions or classes to make your code more modular, reusable, understandable, and maintainable! \n",
    "\n",
    "In short--do what you need to do to get each separate piece of functionality working, and then refactor it into a class after you've figured it out!\n",
    "\n",
    "### Some Final Advice\n",
    "\n",
    "You haven't built anything this big or complex thus far, so you may not yet fully realize how much trial and error goes into it. If your code keeps breaking, resist the urge to get frustrated, and just keep working. Software development is an iterative process!  No one writes perfect code that works the first time for something this involved. You're going to run into _a lot_ of small errors in this project, right up until the point where it just works, and then you're done! However, you can reduce these errors by planning out your code, and thinking about how all of the pieces fit together before you begin coding. Once you have some basic understanding of how it all will work, then you'll know what you need to build, and then all that is left is to build it!\n",
    "\n",
    "In short:\n",
    "\n",
    "* Plan ahead--you'll thank yourself later!\n",
    "* Errors and broken code aren't bad, they're normal. \n",
    "* Keep working, and stay confident--you can do this!\n",
    "\n",
    "Good luck--we look forward to seeing your completed project!"
   ]
  },
  {
   "cell_type": "markdown",
   "metadata": {},
   "source": [
    "# Restating Goal: \n",
    "\n",
    "Upon completion of this lab, *each unique team* in this dataset should have a record in the MongoDB instance containing the following information:\n",
    "<ol>\n",
    "    \n",
    "  * The name of the team\n",
    "  * The total number of goals scored by the team during the 2011 season\n",
    "  * The total number of wins the team earned during the 2011 season \n",
    "  * A histogram visualization of the team's wins and losses for the 2011 season (store the visualization directly by assigning it to a variable)\n",
    "  * The team's win percentage on days where it was raining during games in the 2011 season.  </ol>"
   ]
  },
  {
   "cell_type": "markdown",
   "metadata": {},
   "source": [
    "## Workplan  :\n",
    "\n",
    "### * Query the SQL database  https://www.kaggle.com/laudanum/footballdelphi\n",
    "    Get: \n",
    "        * Team Name\n",
    "        * Goals Scored (2011)\n",
    "        * Number of Wins (2011)\n",
    "        * Dates (for use for weather)\n",
    "        \n",
    "### * Calculate summary statistics\n",
    "    Calc:\n",
    "        * Total Goals Scored (2011) (sum)\n",
    "        * Total Number of Wins (2011) (sum)\n",
    "    Group By\n",
    "        * Team Name\n",
    "### * Get the weather data from the DarkSky API  https://darksky.net/dev  \n",
    "    Class WeatherGetter to obtain weather for Berlin, Germany containing 'rain' corresponding to dates when games were played. Use this data to calc %wins when raining.\n",
    "### * Load the data into MongoDB\n",
    "    Class: MongoHandler to: load team into MongoDB\n",
    "        \n",
    "\n",
    "\n"
   ]
  },
  {
   "cell_type": "markdown",
   "metadata": {},
   "source": [
    "## Import Libraries"
   ]
  },
  {
   "cell_type": "code",
   "execution_count": 112,
   "metadata": {},
   "outputs": [],
   "source": [
    "import sqlite3\n",
    "import pandas as pd\n",
    "import bs4 as BeautifulSoup\n",
    "import numpy as np\n",
    "import requests\n",
    "import pymongo\n",
    "import time\n",
    "import matplotlib.pyplot as plt\n",
    "import json"
   ]
  },
  {
   "cell_type": "markdown",
   "metadata": {},
   "source": [
    "## OBTAIN First dataset:"
   ]
  },
  {
   "cell_type": "code",
   "execution_count": 2,
   "metadata": {},
   "outputs": [],
   "source": [
    "conn = sqlite3.connect('''database.sqlite''')\n",
    "c = conn.cursor()"
   ]
  },
  {
   "cell_type": "code",
   "execution_count": 4,
   "metadata": {
    "scrolled": false
   },
   "outputs": [
    {
     "data": {
      "text/html": [
       "<div>\n",
       "<style scoped>\n",
       "    .dataframe tbody tr th:only-of-type {\n",
       "        vertical-align: middle;\n",
       "    }\n",
       "\n",
       "    .dataframe tbody tr th {\n",
       "        vertical-align: top;\n",
       "    }\n",
       "\n",
       "    .dataframe thead th {\n",
       "        text-align: right;\n",
       "    }\n",
       "</style>\n",
       "<table border=\"1\" class=\"dataframe\">\n",
       "  <thead>\n",
       "    <tr style=\"text-align: right;\">\n",
       "      <th></th>\n",
       "      <th>Match_ID</th>\n",
       "      <th>Div</th>\n",
       "      <th>Season</th>\n",
       "      <th>Date</th>\n",
       "      <th>HomeTeam</th>\n",
       "      <th>AwayTeam</th>\n",
       "      <th>FTHG</th>\n",
       "      <th>FTAG</th>\n",
       "      <th>FTR</th>\n",
       "    </tr>\n",
       "  </thead>\n",
       "  <tbody>\n",
       "    <tr>\n",
       "      <td>0</td>\n",
       "      <td>1092</td>\n",
       "      <td>D1</td>\n",
       "      <td>2011</td>\n",
       "      <td>2012-03-31</td>\n",
       "      <td>Nurnberg</td>\n",
       "      <td>Bayern Munich</td>\n",
       "      <td>0</td>\n",
       "      <td>1</td>\n",
       "      <td>A</td>\n",
       "    </tr>\n",
       "    <tr>\n",
       "      <td>1</td>\n",
       "      <td>1093</td>\n",
       "      <td>D1</td>\n",
       "      <td>2011</td>\n",
       "      <td>2011-12-11</td>\n",
       "      <td>Stuttgart</td>\n",
       "      <td>Bayern Munich</td>\n",
       "      <td>1</td>\n",
       "      <td>2</td>\n",
       "      <td>A</td>\n",
       "    </tr>\n",
       "    <tr>\n",
       "      <td>2</td>\n",
       "      <td>1094</td>\n",
       "      <td>D1</td>\n",
       "      <td>2011</td>\n",
       "      <td>2011-08-13</td>\n",
       "      <td>Wolfsburg</td>\n",
       "      <td>Bayern Munich</td>\n",
       "      <td>0</td>\n",
       "      <td>1</td>\n",
       "      <td>A</td>\n",
       "    </tr>\n",
       "    <tr>\n",
       "      <td>3</td>\n",
       "      <td>1095</td>\n",
       "      <td>D1</td>\n",
       "      <td>2011</td>\n",
       "      <td>2011-11-27</td>\n",
       "      <td>Mainz</td>\n",
       "      <td>Bayern Munich</td>\n",
       "      <td>3</td>\n",
       "      <td>2</td>\n",
       "      <td>H</td>\n",
       "    </tr>\n",
       "    <tr>\n",
       "      <td>4</td>\n",
       "      <td>1096</td>\n",
       "      <td>D1</td>\n",
       "      <td>2011</td>\n",
       "      <td>2012-02-18</td>\n",
       "      <td>Freiburg</td>\n",
       "      <td>Bayern Munich</td>\n",
       "      <td>0</td>\n",
       "      <td>0</td>\n",
       "      <td>D</td>\n",
       "    </tr>\n",
       "  </tbody>\n",
       "</table>\n",
       "</div>"
      ],
      "text/plain": [
       "   Match_ID Div  Season        Date   HomeTeam       AwayTeam  FTHG  FTAG FTR\n",
       "0      1092  D1    2011  2012-03-31   Nurnberg  Bayern Munich     0     1   A\n",
       "1      1093  D1    2011  2011-12-11  Stuttgart  Bayern Munich     1     2   A\n",
       "2      1094  D1    2011  2011-08-13  Wolfsburg  Bayern Munich     0     1   A\n",
       "3      1095  D1    2011  2011-11-27      Mainz  Bayern Munich     3     2   H\n",
       "4      1096  D1    2011  2012-02-18   Freiburg  Bayern Munich     0     0   D"
      ]
     },
     "execution_count": 4,
     "metadata": {},
     "output_type": "execute_result"
    }
   ],
   "source": [
    "c.execute('''select * from matches where season = 2011''')\n",
    "\n",
    "matches = pd.DataFrame(c.fetchall())\n",
    "matches.columns = [i[0] for i in c.description]\n",
    "matches.head()"
   ]
  },
  {
   "cell_type": "code",
   "execution_count": 5,
   "metadata": {},
   "outputs": [
    {
     "data": {
      "text/plain": [
       "165"
      ]
     },
     "execution_count": 5,
     "metadata": {},
     "output_type": "execute_result"
    }
   ],
   "source": [
    "gamedates = [x for x in matches['Date'].unique()]\n",
    "len(gamedates)\n"
   ]
  },
  {
   "cell_type": "code",
   "execution_count": 6,
   "metadata": {},
   "outputs": [
    {
     "data": {
      "text/plain": [
       "list"
      ]
     },
     "execution_count": 6,
     "metadata": {},
     "output_type": "execute_result"
    }
   ],
   "source": [
    "type(gamedates)"
   ]
  },
  {
   "cell_type": "code",
   "execution_count": 7,
   "metadata": {
    "scrolled": true
   },
   "outputs": [
    {
     "data": {
      "text/html": [
       "<div>\n",
       "<style scoped>\n",
       "    .dataframe tbody tr th:only-of-type {\n",
       "        vertical-align: middle;\n",
       "    }\n",
       "\n",
       "    .dataframe tbody tr th {\n",
       "        vertical-align: top;\n",
       "    }\n",
       "\n",
       "    .dataframe thead th {\n",
       "        text-align: right;\n",
       "    }\n",
       "</style>\n",
       "<table border=\"1\" class=\"dataframe\">\n",
       "  <thead>\n",
       "    <tr style=\"text-align: right;\">\n",
       "      <th></th>\n",
       "      <th>Match_ID</th>\n",
       "      <th>Div</th>\n",
       "      <th>Season</th>\n",
       "      <th>Date</th>\n",
       "      <th>HomeTeam</th>\n",
       "      <th>AwayTeam</th>\n",
       "      <th>FTHG</th>\n",
       "      <th>FTAG</th>\n",
       "      <th>FTR</th>\n",
       "    </tr>\n",
       "  </thead>\n",
       "  <tbody>\n",
       "    <tr>\n",
       "      <td>0</td>\n",
       "      <td>1092</td>\n",
       "      <td>D1</td>\n",
       "      <td>2011</td>\n",
       "      <td>2012-03-31</td>\n",
       "      <td>Nurnberg</td>\n",
       "      <td>Bayern Munich</td>\n",
       "      <td>0</td>\n",
       "      <td>1</td>\n",
       "      <td>A</td>\n",
       "    </tr>\n",
       "    <tr>\n",
       "      <td>1</td>\n",
       "      <td>1093</td>\n",
       "      <td>D1</td>\n",
       "      <td>2011</td>\n",
       "      <td>2011-12-11</td>\n",
       "      <td>Stuttgart</td>\n",
       "      <td>Bayern Munich</td>\n",
       "      <td>1</td>\n",
       "      <td>2</td>\n",
       "      <td>A</td>\n",
       "    </tr>\n",
       "    <tr>\n",
       "      <td>2</td>\n",
       "      <td>1094</td>\n",
       "      <td>D1</td>\n",
       "      <td>2011</td>\n",
       "      <td>2011-08-13</td>\n",
       "      <td>Wolfsburg</td>\n",
       "      <td>Bayern Munich</td>\n",
       "      <td>0</td>\n",
       "      <td>1</td>\n",
       "      <td>A</td>\n",
       "    </tr>\n",
       "    <tr>\n",
       "      <td>3</td>\n",
       "      <td>1095</td>\n",
       "      <td>D1</td>\n",
       "      <td>2011</td>\n",
       "      <td>2011-11-27</td>\n",
       "      <td>Mainz</td>\n",
       "      <td>Bayern Munich</td>\n",
       "      <td>3</td>\n",
       "      <td>2</td>\n",
       "      <td>H</td>\n",
       "    </tr>\n",
       "    <tr>\n",
       "      <td>4</td>\n",
       "      <td>1096</td>\n",
       "      <td>D1</td>\n",
       "      <td>2011</td>\n",
       "      <td>2012-02-18</td>\n",
       "      <td>Freiburg</td>\n",
       "      <td>Bayern Munich</td>\n",
       "      <td>0</td>\n",
       "      <td>0</td>\n",
       "      <td>D</td>\n",
       "    </tr>\n",
       "    <tr>\n",
       "      <td>...</td>\n",
       "      <td>...</td>\n",
       "      <td>...</td>\n",
       "      <td>...</td>\n",
       "      <td>...</td>\n",
       "      <td>...</td>\n",
       "      <td>...</td>\n",
       "      <td>...</td>\n",
       "      <td>...</td>\n",
       "      <td>...</td>\n",
       "    </tr>\n",
       "    <tr>\n",
       "      <td>987</td>\n",
       "      <td>44870</td>\n",
       "      <td>E0</td>\n",
       "      <td>2011</td>\n",
       "      <td>2012-05-13</td>\n",
       "      <td>Sunderland</td>\n",
       "      <td>Man United</td>\n",
       "      <td>0</td>\n",
       "      <td>1</td>\n",
       "      <td>A</td>\n",
       "    </tr>\n",
       "    <tr>\n",
       "      <td>988</td>\n",
       "      <td>44871</td>\n",
       "      <td>E0</td>\n",
       "      <td>2011</td>\n",
       "      <td>2012-05-13</td>\n",
       "      <td>Swansea</td>\n",
       "      <td>Liverpool</td>\n",
       "      <td>1</td>\n",
       "      <td>0</td>\n",
       "      <td>H</td>\n",
       "    </tr>\n",
       "    <tr>\n",
       "      <td>989</td>\n",
       "      <td>44872</td>\n",
       "      <td>E0</td>\n",
       "      <td>2011</td>\n",
       "      <td>2012-05-13</td>\n",
       "      <td>Tottenham</td>\n",
       "      <td>Fulham</td>\n",
       "      <td>2</td>\n",
       "      <td>0</td>\n",
       "      <td>H</td>\n",
       "    </tr>\n",
       "    <tr>\n",
       "      <td>990</td>\n",
       "      <td>44873</td>\n",
       "      <td>E0</td>\n",
       "      <td>2011</td>\n",
       "      <td>2012-05-13</td>\n",
       "      <td>West Brom</td>\n",
       "      <td>Arsenal</td>\n",
       "      <td>2</td>\n",
       "      <td>3</td>\n",
       "      <td>A</td>\n",
       "    </tr>\n",
       "    <tr>\n",
       "      <td>991</td>\n",
       "      <td>44874</td>\n",
       "      <td>E0</td>\n",
       "      <td>2011</td>\n",
       "      <td>2012-05-13</td>\n",
       "      <td>Wigan</td>\n",
       "      <td>Wolves</td>\n",
       "      <td>3</td>\n",
       "      <td>2</td>\n",
       "      <td>H</td>\n",
       "    </tr>\n",
       "  </tbody>\n",
       "</table>\n",
       "<p>992 rows × 9 columns</p>\n",
       "</div>"
      ],
      "text/plain": [
       "     Match_ID Div  Season        Date    HomeTeam       AwayTeam  FTHG  FTAG  \\\n",
       "0        1092  D1    2011  2012-03-31    Nurnberg  Bayern Munich     0     1   \n",
       "1        1093  D1    2011  2011-12-11   Stuttgart  Bayern Munich     1     2   \n",
       "2        1094  D1    2011  2011-08-13   Wolfsburg  Bayern Munich     0     1   \n",
       "3        1095  D1    2011  2011-11-27       Mainz  Bayern Munich     3     2   \n",
       "4        1096  D1    2011  2012-02-18    Freiburg  Bayern Munich     0     0   \n",
       "..        ...  ..     ...         ...         ...            ...   ...   ...   \n",
       "987     44870  E0    2011  2012-05-13  Sunderland     Man United     0     1   \n",
       "988     44871  E0    2011  2012-05-13     Swansea      Liverpool     1     0   \n",
       "989     44872  E0    2011  2012-05-13   Tottenham         Fulham     2     0   \n",
       "990     44873  E0    2011  2012-05-13   West Brom        Arsenal     2     3   \n",
       "991     44874  E0    2011  2012-05-13       Wigan         Wolves     3     2   \n",
       "\n",
       "    FTR  \n",
       "0     A  \n",
       "1     A  \n",
       "2     A  \n",
       "3     H  \n",
       "4     D  \n",
       "..   ..  \n",
       "987   A  \n",
       "988   H  \n",
       "989   H  \n",
       "990   A  \n",
       "991   H  \n",
       "\n",
       "[992 rows x 9 columns]"
      ]
     },
     "metadata": {},
     "output_type": "display_data"
    }
   ],
   "source": [
    "display(matches)"
   ]
  },
  {
   "cell_type": "code",
   "execution_count": 8,
   "metadata": {},
   "outputs": [
    {
     "data": {
      "text/plain": [
       "992"
      ]
     },
     "execution_count": 8,
     "metadata": {},
     "output_type": "execute_result"
    }
   ],
   "source": [
    "matches['Match_ID'].nunique()"
   ]
  },
  {
   "cell_type": "code",
   "execution_count": 9,
   "metadata": {
    "scrolled": false
   },
   "outputs": [
    {
     "data": {
      "text/plain": [
       "992"
      ]
     },
     "execution_count": 9,
     "metadata": {},
     "output_type": "execute_result"
    }
   ],
   "source": [
    "len(matches)"
   ]
  },
  {
   "cell_type": "code",
   "execution_count": 9,
   "metadata": {},
   "outputs": [],
   "source": [
    "    #def maketeam(self, df):\n",
    "       # ht = list(df['HomeTeam'].unique())\n",
    "        #at = list(df['AwayTeam'].unique())\n",
    "        #len(ht)==len(at)\n",
    "\n",
    "        ## Make list of teams\n",
    "        #ht.extend(at)\n",
    "        #team_list = list(set(ht))\n",
    "    "
   ]
  },
  {
   "cell_type": "code",
   "execution_count": 10,
   "metadata": {},
   "outputs": [],
   "source": [
    "#display(newdf)"
   ]
  },
  {
   "cell_type": "code",
   "execution_count": null,
   "metadata": {},
   "outputs": [],
   "source": []
  },
  {
   "cell_type": "markdown",
   "metadata": {},
   "source": [
    "## Get weather\n"
   ]
  },
  {
   "cell_type": "code",
   "execution_count": 10,
   "metadata": {},
   "outputs": [],
   "source": [
    "#https://api.darksky.net/forecast/[key]/[latitude],[longitude],[time]\n",
    "def get_keys(path):\n",
    "    with open(path) as f:\n",
    "        return json.load(f)\n",
    "\n",
    "keys = get_keys(\"/Users/aosika/.secret/ds_api.json\")\n",
    "\n",
    "api_key = keys['api_key']"
   ]
  },
  {
   "cell_type": "code",
   "execution_count": 11,
   "metadata": {},
   "outputs": [
    {
     "data": {
      "text/plain": [
       "str"
      ]
     },
     "execution_count": 11,
     "metadata": {},
     "output_type": "execute_result"
    }
   ],
   "source": [
    "type(api_key)"
   ]
  },
  {
   "cell_type": "code",
   "execution_count": 12,
   "metadata": {},
   "outputs": [],
   "source": [
    "response = requests.get(f\"https://api.darksky.net/forecast/{api_key}/52.5200,13.4050,20120331?exclude=currently,minutely,hourly,alerts,flags\")\n"
   ]
  },
  {
   "cell_type": "code",
   "execution_count": 13,
   "metadata": {},
   "outputs": [
    {
     "data": {
      "text/plain": [
       "'2012-03-31'"
      ]
     },
     "execution_count": 13,
     "metadata": {},
     "output_type": "execute_result"
    }
   ],
   "source": [
    "test_date = matches['Date'][0]\n",
    "test_date"
   ]
  },
  {
   "cell_type": "code",
   "execution_count": 14,
   "metadata": {},
   "outputs": [],
   "source": [
    "import requests\n",
    "def api_request(time,verbose=1):\n",
    "    # request_url = \"https://api.darksky.net/forecast/[key]/[latitude],[longitude],[time]\"\n",
    "    lat =52.5200\n",
    "    long= 13.4050\n",
    "\n",
    "    time_suffix = \"T12:00:00\"\n",
    "    check_date = time+time_suffix\n",
    "\n",
    "    template_url= f\"https://api.darksky.net/forecast/{api_key}/{lat},{long},{check_date}?exclude=currently,minutely,hourly,alerts,flags\"\n",
    "    if verbose==2:\n",
    "        print(template_url)\n",
    "    \n",
    "    response = requests.get(template_url )\n",
    "    \n",
    "    if response.status_code == 200:\n",
    "        if verbose>0: \n",
    "            print('Success')\n",
    "    else: \n",
    "        print(f\"Error: status code = {response.status_code}\")\n",
    "    \n",
    "    return response"
   ]
  },
  {
   "cell_type": "code",
   "execution_count": 16,
   "metadata": {},
   "outputs": [],
   "source": [
    "#api_request(test_date, verbose=2)"
   ]
  },
  {
   "cell_type": "code",
   "execution_count": 17,
   "metadata": {},
   "outputs": [],
   "source": [
    "#resp = api_request(test_date,verbose=2)"
   ]
  },
  {
   "cell_type": "code",
   "execution_count": 18,
   "metadata": {},
   "outputs": [],
   "source": [
    "#resp.json()"
   ]
  },
  {
   "cell_type": "code",
   "execution_count": 19,
   "metadata": {},
   "outputs": [],
   "source": [
    "#r_dict = resp.json()\n",
    "#r_dict.keys()"
   ]
  },
  {
   "cell_type": "code",
   "execution_count": 17,
   "metadata": {},
   "outputs": [],
   "source": [
    "\n",
    "class WeatherGetter():\n",
    "    \n",
    "    def __init__(self,api_key, lat =52.5200, long= 13.4050,):\n",
    "        \"\"\"Sets the lat/long for the location, and stores api_key.\"\"\"\n",
    "        self.lat= lat\n",
    "        self.long=long\n",
    "        self.base_url  = \"https://api.darksky.net/forecast/\"\n",
    "        self.api_key = api_key\n",
    "        \n",
    "    \n",
    "    def get_weather_for_date(self, date,verbose=1):\n",
    "        \"\"\"Checks dark_sky api for weather from date. \"\"\"\n",
    "        import requests\n",
    "        # request_url = \"https://api.darksky.net/forecast/[key]/[latitude],[longitude],[time]\"\n",
    "\n",
    "        time_suffix = \"T12:00:00\"\n",
    "        check_date = date+time_suffix\n",
    "\n",
    "        template_url= f\"https://api.darksky.net/forecast/{self.api_key}/{self.lat},{self.long},{check_date}?exclude=current,minutely,hourly\"\n",
    "        if verbose==2:\n",
    "            print(template_url)\n",
    "\n",
    "        ## Get and check response\n",
    "        response = requests.get(template_url )\n",
    "        if response.status_code == 200:\n",
    "            \n",
    "            if verbose > 0: \n",
    "                print('Success')\n",
    "        else: \n",
    "            print(f\"Error: status code = {response.status_code}\")\n",
    "            \n",
    "        # call helper method\n",
    "        return self._get_weather_from_response(response)\n",
    "    \n",
    "    def _get_weather_from_response(self,response):\n",
    "        \"\"\"Extracts pricipProbability from dark_sky api response\"\"\"\n",
    "        r_dict = response.json()\n",
    "        return r_dict['daily']['data'][0]['precipProbability']\n",
    "        \n",
    "        \n",
    "    def get_weather_for_date_list(self,dates, verbose=0):    \n",
    "        import time\n",
    "        weather_list = []\n",
    "        \n",
    "        for date in dates:\n",
    "            time.sleep(0.5)\n",
    "            weather_list.append(self.get_weather_for_date(date))\n",
    "            \n",
    "            \n",
    "#         self._weather_list     \n",
    "        return weather_list"
   ]
  },
  {
   "cell_type": "code",
   "execution_count": 16,
   "metadata": {},
   "outputs": [
    {
     "name": "stdout",
     "output_type": "stream",
     "text": [
      "Success\n",
      "Success\n",
      "Success\n",
      "Success\n",
      "Success\n",
      "Success\n",
      "Success\n",
      "Success\n",
      "Success\n",
      "Success\n",
      "Success\n",
      "Success\n",
      "Success\n",
      "Success\n",
      "Success\n",
      "Success\n",
      "Success\n",
      "Success\n",
      "Success\n",
      "Success\n",
      "Success\n",
      "Success\n",
      "Success\n",
      "Success\n",
      "Success\n",
      "Success\n",
      "Success\n",
      "Success\n",
      "Success\n",
      "Success\n",
      "Success\n",
      "Success\n",
      "Success\n",
      "Success\n",
      "Success\n",
      "Success\n",
      "Success\n",
      "Success\n",
      "Success\n",
      "Success\n",
      "Success\n",
      "Success\n",
      "Success\n",
      "Success\n",
      "Success\n",
      "Success\n",
      "Success\n",
      "Success\n",
      "Success\n",
      "Success\n",
      "Success\n",
      "Success\n",
      "Success\n",
      "Success\n",
      "Success\n",
      "Success\n",
      "Success\n",
      "Success\n",
      "Success\n",
      "Success\n",
      "Success\n",
      "Success\n",
      "Success\n",
      "Success\n",
      "Success\n",
      "Success\n",
      "Success\n",
      "Success\n",
      "Success\n",
      "Success\n",
      "Success\n",
      "Success\n",
      "Success\n",
      "Success\n",
      "Success\n",
      "Success\n",
      "Success\n",
      "Success\n",
      "Success\n",
      "Success\n",
      "Success\n",
      "Success\n",
      "Success\n",
      "Success\n",
      "Success\n",
      "Success\n",
      "Success\n",
      "Success\n",
      "Success\n",
      "Success\n",
      "Success\n",
      "Success\n",
      "Success\n",
      "Success\n",
      "Success\n",
      "Success\n",
      "Success\n",
      "Success\n",
      "Success\n",
      "Success\n",
      "Success\n",
      "Success\n",
      "Success\n",
      "Success\n",
      "Success\n",
      "Success\n",
      "Success\n",
      "Success\n",
      "Success\n",
      "Success\n",
      "Success\n",
      "Success\n",
      "Success\n",
      "Success\n",
      "Success\n",
      "Success\n",
      "Success\n",
      "Success\n",
      "Success\n",
      "Success\n",
      "Success\n",
      "Success\n",
      "Success\n",
      "Success\n",
      "Success\n",
      "Success\n",
      "Success\n",
      "Success\n",
      "Success\n",
      "Success\n",
      "Success\n",
      "Success\n",
      "Success\n",
      "Success\n",
      "Success\n",
      "Success\n",
      "Success\n",
      "Success\n",
      "Success\n",
      "Success\n",
      "Success\n",
      "Success\n",
      "Success\n",
      "Success\n",
      "Success\n",
      "Success\n",
      "Success\n",
      "Success\n",
      "Success\n",
      "Success\n",
      "Success\n",
      "Success\n",
      "Success\n",
      "Success\n",
      "Success\n",
      "Success\n",
      "Success\n",
      "Success\n",
      "Success\n",
      "Success\n",
      "Success\n",
      "Success\n",
      "Success\n",
      "Success\n",
      "Success\n"
     ]
    }
   ],
   "source": [
    "wget = WeatherGetter(api_key)\n",
    "weather_results = wget.get_weather_for_date_list(gamedates)"
   ]
  },
  {
   "cell_type": "code",
   "execution_count": 18,
   "metadata": {
    "scrolled": true
   },
   "outputs": [
    {
     "data": {
      "text/plain": [
       "165"
      ]
     },
     "execution_count": 18,
     "metadata": {},
     "output_type": "execute_result"
    }
   ],
   "source": [
    "len(weather_results)"
   ]
  },
  {
   "cell_type": "code",
   "execution_count": 19,
   "metadata": {
    "scrolled": true
   },
   "outputs": [
    {
     "data": {
      "text/plain": [
       "[0.92, 0, 0, 0, 0, 0.98, 0, 0, 1, 0.09]"
      ]
     },
     "metadata": {},
     "output_type": "display_data"
    }
   ],
   "source": [
    "display(weather_results[:10])"
   ]
  },
  {
   "cell_type": "code",
   "execution_count": 20,
   "metadata": {},
   "outputs": [
    {
     "data": {
      "text/plain": [
       "{'2012-03-31': 0.92,\n",
       " '2011-12-11': 0,\n",
       " '2011-08-13': 0,\n",
       " '2011-11-27': 0,\n",
       " '2012-02-18': 0,\n",
       " '2012-01-20': 0.98,\n",
       " '2012-02-04': 0,\n",
       " '2012-04-21': 0,\n",
       " '2011-09-18': 1,\n",
       " '2011-10-23': 0.09,\n",
       " '2011-10-01': 0,\n",
       " '2012-03-03': 0,\n",
       " '2011-08-27': 0.09,\n",
       " '2012-03-17': 0,\n",
       " '2011-11-06': 0.09,\n",
       " '2012-05-05': 0.98,\n",
       " '2012-04-11': 0,\n",
       " '2011-12-17': 1,\n",
       " '2012-02-03': 0,\n",
       " '2011-10-29': 0,\n",
       " '2012-01-22': 0.98,\n",
       " '2011-12-03': 0.91,\n",
       " '2012-04-14': 0,\n",
       " '2012-03-25': 0,\n",
       " '2012-03-10': 0,\n",
       " '2012-04-07': 0,\n",
       " '2011-11-19': 0,\n",
       " '2011-10-14': 0,\n",
       " '2011-09-24': 0,\n",
       " '2012-04-28': 0,\n",
       " '2011-12-18': 1,\n",
       " '2012-03-02': 0,\n",
       " '2012-03-16': 0,\n",
       " '2012-02-17': 0.98,\n",
       " '2011-08-06': 0.91,\n",
       " '2011-11-04': 0,\n",
       " '2011-09-16': 0,\n",
       " '2011-07-15': 0,\n",
       " '2012-05-06': 0.98,\n",
       " '2012-02-11': 0,\n",
       " '2011-10-02': 0,\n",
       " '2012-03-30': 0,\n",
       " '2011-10-22': 0,\n",
       " '2011-08-26': 0.09,\n",
       " '2011-08-07': 0.91,\n",
       " '2012-02-24': 0.98,\n",
       " '2011-07-17': 1,\n",
       " '2012-02-12': 0,\n",
       " '2011-08-22': 0,\n",
       " '2011-09-09': 0.09,\n",
       " '2012-04-01': 0,\n",
       " '2011-09-25': 0,\n",
       " '2012-04-20': 0,\n",
       " '2011-11-25': 1,\n",
       " '2012-03-09': 0,\n",
       " '2011-11-07': 0,\n",
       " '2011-09-10': 0.09,\n",
       " '2011-08-21': 0,\n",
       " '2011-09-26': 0,\n",
       " '2012-03-26': 0,\n",
       " '2011-10-30': 0.09,\n",
       " '2012-02-13': 0,\n",
       " '2012-02-26': 0,\n",
       " '2011-12-19': 0,\n",
       " '2012-03-11': 0,\n",
       " '2011-11-26': 1,\n",
       " '2012-04-23': 0,\n",
       " '2011-12-16': 1,\n",
       " '2011-11-05': 0.09,\n",
       " '2012-04-10': 0,\n",
       " '2012-04-15': 0,\n",
       " '2012-02-05': 0,\n",
       " '2012-03-04': 0,\n",
       " '2011-09-17': 0,\n",
       " '2012-01-21': 0,\n",
       " '2012-03-18': 0,\n",
       " '2012-04-22': 0,\n",
       " '2011-08-20': 0,\n",
       " '2012-02-10': 0,\n",
       " '2012-02-25': 0,\n",
       " '2011-12-10': 0.09,\n",
       " '2012-01-29': 0,\n",
       " '2011-10-16': 0.09,\n",
       " '2011-08-05': 0.91,\n",
       " '2012-03-23': 0,\n",
       " '2011-09-23': 0,\n",
       " '2012-01-28': 0,\n",
       " '2011-10-15': 0,\n",
       " '2012-03-24': 0,\n",
       " '2011-11-18': 0.09,\n",
       " '2012-04-29': 0,\n",
       " '2011-12-09': 0.09,\n",
       " '2012-04-08': 0,\n",
       " '2012-03-12': 0.53,\n",
       " '2011-07-23': 1,\n",
       " '2011-10-28': 0,\n",
       " '2012-01-27': 0,\n",
       " '2011-12-04': 0,\n",
       " '2011-09-11': 1,\n",
       " '2011-09-30': 0,\n",
       " '2012-02-19': 0.8,\n",
       " '2012-04-13': 0,\n",
       " '2011-10-21': 0,\n",
       " '2011-08-14': 1,\n",
       " '2011-09-12': 1,\n",
       " '2011-07-18': 1,\n",
       " '2011-08-08': 1,\n",
       " '2011-07-24': 0,\n",
       " '2011-12-13': 1,\n",
       " '2011-08-28': 0,\n",
       " '2011-08-19': 0.09,\n",
       " '2012-03-14': 0,\n",
       " '2011-08-12': 1,\n",
       " '2012-03-05': 0,\n",
       " '2011-12-02': 1,\n",
       " '2011-09-19': 1,\n",
       " '2011-07-25': 0,\n",
       " '2012-04-02': 0.98,\n",
       " '2012-02-06': 0,\n",
       " '2011-11-21': 0,\n",
       " '2011-07-22': 1,\n",
       " '2011-08-29': 0.09,\n",
       " '2012-04-05': 0,\n",
       " '2011-11-28': 0,\n",
       " '2011-12-12': 1,\n",
       " '2011-11-20': 0,\n",
       " '2012-02-27': 0.98,\n",
       " '2011-07-16': 0,\n",
       " '2011-10-31': 0,\n",
       " '2012-02-20': 0,\n",
       " '2011-10-17': 0,\n",
       " '2011-12-05': 0,\n",
       " '2012-04-16': 0,\n",
       " '2011-10-03': 0,\n",
       " '2012-03-19': 0,\n",
       " '2011-08-15': 0.91,\n",
       " '2011-12-20': 0,\n",
       " '2011-12-21': 1,\n",
       " '2011-12-22': 0,\n",
       " '2011-12-26': 1,\n",
       " '2011-12-27': 0,\n",
       " '2011-12-30': 1,\n",
       " '2011-12-31': 0,\n",
       " '2012-01-01': 1,\n",
       " '2012-01-02': 1,\n",
       " '2012-01-03': 0.91,\n",
       " '2012-01-04': 1,\n",
       " '2012-01-11': 0,\n",
       " '2012-01-14': 0,\n",
       " '2012-01-15': 0,\n",
       " '2012-01-16': 1,\n",
       " '2012-01-31': 0,\n",
       " '2012-02-01': 0,\n",
       " '2012-03-13': 0,\n",
       " '2012-03-20': 0,\n",
       " '2012-03-21': 0,\n",
       " '2012-04-06': 0,\n",
       " '2012-04-09': 0,\n",
       " '2012-04-24': 0.98,\n",
       " '2012-04-30': 0,\n",
       " '2012-05-01': 0,\n",
       " '2012-05-02': 0,\n",
       " '2012-05-07': 0,\n",
       " '2012-05-08': 0,\n",
       " '2012-05-13': 0}"
      ]
     },
     "execution_count": 20,
     "metadata": {},
     "output_type": "execute_result"
    }
   ],
   "source": [
    "weather_dict = dict(zip(gamedates,weather_results))\n",
    "weather_dict"
   ]
  },
  {
   "cell_type": "code",
   "execution_count": 21,
   "metadata": {},
   "outputs": [],
   "source": [
    "matches['Precip'] = matches['Date'].map(lambda x: weather_dict[x])"
   ]
  },
  {
   "cell_type": "code",
   "execution_count": 22,
   "metadata": {
    "scrolled": false
   },
   "outputs": [
    {
     "data": {
      "text/html": [
       "<div>\n",
       "<style scoped>\n",
       "    .dataframe tbody tr th:only-of-type {\n",
       "        vertical-align: middle;\n",
       "    }\n",
       "\n",
       "    .dataframe tbody tr th {\n",
       "        vertical-align: top;\n",
       "    }\n",
       "\n",
       "    .dataframe thead th {\n",
       "        text-align: right;\n",
       "    }\n",
       "</style>\n",
       "<table border=\"1\" class=\"dataframe\">\n",
       "  <thead>\n",
       "    <tr style=\"text-align: right;\">\n",
       "      <th></th>\n",
       "      <th>Match_ID</th>\n",
       "      <th>Div</th>\n",
       "      <th>Season</th>\n",
       "      <th>Date</th>\n",
       "      <th>HomeTeam</th>\n",
       "      <th>AwayTeam</th>\n",
       "      <th>FTHG</th>\n",
       "      <th>FTAG</th>\n",
       "      <th>FTR</th>\n",
       "      <th>Precip</th>\n",
       "    </tr>\n",
       "  </thead>\n",
       "  <tbody>\n",
       "    <tr>\n",
       "      <td>0</td>\n",
       "      <td>1092</td>\n",
       "      <td>D1</td>\n",
       "      <td>2011</td>\n",
       "      <td>2012-03-31</td>\n",
       "      <td>Nurnberg</td>\n",
       "      <td>Bayern Munich</td>\n",
       "      <td>0</td>\n",
       "      <td>1</td>\n",
       "      <td>A</td>\n",
       "      <td>0.92</td>\n",
       "    </tr>\n",
       "    <tr>\n",
       "      <td>1</td>\n",
       "      <td>1093</td>\n",
       "      <td>D1</td>\n",
       "      <td>2011</td>\n",
       "      <td>2011-12-11</td>\n",
       "      <td>Stuttgart</td>\n",
       "      <td>Bayern Munich</td>\n",
       "      <td>1</td>\n",
       "      <td>2</td>\n",
       "      <td>A</td>\n",
       "      <td>0.00</td>\n",
       "    </tr>\n",
       "    <tr>\n",
       "      <td>2</td>\n",
       "      <td>1094</td>\n",
       "      <td>D1</td>\n",
       "      <td>2011</td>\n",
       "      <td>2011-08-13</td>\n",
       "      <td>Wolfsburg</td>\n",
       "      <td>Bayern Munich</td>\n",
       "      <td>0</td>\n",
       "      <td>1</td>\n",
       "      <td>A</td>\n",
       "      <td>0.00</td>\n",
       "    </tr>\n",
       "    <tr>\n",
       "      <td>3</td>\n",
       "      <td>1095</td>\n",
       "      <td>D1</td>\n",
       "      <td>2011</td>\n",
       "      <td>2011-11-27</td>\n",
       "      <td>Mainz</td>\n",
       "      <td>Bayern Munich</td>\n",
       "      <td>3</td>\n",
       "      <td>2</td>\n",
       "      <td>H</td>\n",
       "      <td>0.00</td>\n",
       "    </tr>\n",
       "    <tr>\n",
       "      <td>4</td>\n",
       "      <td>1096</td>\n",
       "      <td>D1</td>\n",
       "      <td>2011</td>\n",
       "      <td>2012-02-18</td>\n",
       "      <td>Freiburg</td>\n",
       "      <td>Bayern Munich</td>\n",
       "      <td>0</td>\n",
       "      <td>0</td>\n",
       "      <td>D</td>\n",
       "      <td>0.00</td>\n",
       "    </tr>\n",
       "  </tbody>\n",
       "</table>\n",
       "</div>"
      ],
      "text/plain": [
       "   Match_ID Div  Season        Date   HomeTeam       AwayTeam  FTHG  FTAG FTR  \\\n",
       "0      1092  D1    2011  2012-03-31   Nurnberg  Bayern Munich     0     1   A   \n",
       "1      1093  D1    2011  2011-12-11  Stuttgart  Bayern Munich     1     2   A   \n",
       "2      1094  D1    2011  2011-08-13  Wolfsburg  Bayern Munich     0     1   A   \n",
       "3      1095  D1    2011  2011-11-27      Mainz  Bayern Munich     3     2   H   \n",
       "4      1096  D1    2011  2012-02-18   Freiburg  Bayern Munich     0     0   D   \n",
       "\n",
       "   Precip  \n",
       "0    0.92  \n",
       "1    0.00  \n",
       "2    0.00  \n",
       "3    0.00  \n",
       "4    0.00  "
      ]
     },
     "execution_count": 22,
     "metadata": {},
     "output_type": "execute_result"
    }
   ],
   "source": [
    "matches.head()"
   ]
  },
  {
   "cell_type": "code",
   "execution_count": null,
   "metadata": {},
   "outputs": [],
   "source": []
  },
  {
   "cell_type": "markdown",
   "metadata": {},
   "source": [
    "## Pull Stats:"
   ]
  },
  {
   "cell_type": "markdown",
   "metadata": {},
   "source": [
    "#how can I use this in my current function?"
   ]
  },
  {
   "cell_type": "code",
   "execution_count": null,
   "metadata": {},
   "outputs": [],
   "source": [
    "### this will build a dictionary for each team\n",
    "## by taking all the uniuque home teams since every team plays at least once at home.\n",
    "#all_teams = matches['HomeTeam'].unique()\n",
    "#print(\"# of Unique Teams: {}\".format(len(all_teams)))\n",
    "teams_data = {}\n",
    "for team in newdf:\n",
    "    data = {'total_matches': 0, \n",
    "           'total_wins': 0,\n",
    "           'total_losses': 0,\n",
    "           'rain_wins': 0,\n",
    "           'rain_losses1': 0,\n",
    "           'total_goals': 0}\n",
    "    teams_data[team] = data\n",
    "print(len(teams_data))"
   ]
  },
  {
   "cell_type": "code",
   "execution_count": 23,
   "metadata": {},
   "outputs": [],
   "source": [
    "def teamlist(df):\n",
    "      \n",
    "        ht = list(df['HomeTeam'].unique())\n",
    "        at = list(df['AwayTeam'].unique())\n",
    "        len(ht)==len(at)\n",
    "\n",
    "        ## Make list of teams\n",
    "        ht.extend(at)\n",
    "        team_list = list(set(ht))\n",
    "        return team_list"
   ]
  },
  {
   "cell_type": "code",
   "execution_count": 24,
   "metadata": {},
   "outputs": [],
   "source": [
    "tlist = teamlist(matches)"
   ]
  },
  {
   "cell_type": "code",
   "execution_count": 25,
   "metadata": {
    "scrolled": false
   },
   "outputs": [
    {
     "data": {
      "text/html": [
       "<div>\n",
       "<style scoped>\n",
       "    .dataframe tbody tr th:only-of-type {\n",
       "        vertical-align: middle;\n",
       "    }\n",
       "\n",
       "    .dataframe tbody tr th {\n",
       "        vertical-align: top;\n",
       "    }\n",
       "\n",
       "    .dataframe thead th {\n",
       "        text-align: right;\n",
       "    }\n",
       "</style>\n",
       "<table border=\"1\" class=\"dataframe\">\n",
       "  <thead>\n",
       "    <tr style=\"text-align: right;\">\n",
       "      <th></th>\n",
       "      <th>Match_ID</th>\n",
       "      <th>Div</th>\n",
       "      <th>Season</th>\n",
       "      <th>Date</th>\n",
       "      <th>HomeTeam</th>\n",
       "      <th>AwayTeam</th>\n",
       "      <th>FTHG</th>\n",
       "      <th>FTAG</th>\n",
       "      <th>FTR</th>\n",
       "      <th>Precip</th>\n",
       "    </tr>\n",
       "  </thead>\n",
       "  <tbody>\n",
       "    <tr>\n",
       "      <td>0</td>\n",
       "      <td>1092</td>\n",
       "      <td>D1</td>\n",
       "      <td>2011</td>\n",
       "      <td>2012-03-31</td>\n",
       "      <td>Nurnberg</td>\n",
       "      <td>Bayern Munich</td>\n",
       "      <td>0</td>\n",
       "      <td>1</td>\n",
       "      <td>A</td>\n",
       "      <td>0.92</td>\n",
       "    </tr>\n",
       "    <tr>\n",
       "      <td>1</td>\n",
       "      <td>1093</td>\n",
       "      <td>D1</td>\n",
       "      <td>2011</td>\n",
       "      <td>2011-12-11</td>\n",
       "      <td>Stuttgart</td>\n",
       "      <td>Bayern Munich</td>\n",
       "      <td>1</td>\n",
       "      <td>2</td>\n",
       "      <td>A</td>\n",
       "      <td>0.00</td>\n",
       "    </tr>\n",
       "    <tr>\n",
       "      <td>2</td>\n",
       "      <td>1094</td>\n",
       "      <td>D1</td>\n",
       "      <td>2011</td>\n",
       "      <td>2011-08-13</td>\n",
       "      <td>Wolfsburg</td>\n",
       "      <td>Bayern Munich</td>\n",
       "      <td>0</td>\n",
       "      <td>1</td>\n",
       "      <td>A</td>\n",
       "      <td>0.00</td>\n",
       "    </tr>\n",
       "    <tr>\n",
       "      <td>3</td>\n",
       "      <td>1095</td>\n",
       "      <td>D1</td>\n",
       "      <td>2011</td>\n",
       "      <td>2011-11-27</td>\n",
       "      <td>Mainz</td>\n",
       "      <td>Bayern Munich</td>\n",
       "      <td>3</td>\n",
       "      <td>2</td>\n",
       "      <td>H</td>\n",
       "      <td>0.00</td>\n",
       "    </tr>\n",
       "    <tr>\n",
       "      <td>4</td>\n",
       "      <td>1096</td>\n",
       "      <td>D1</td>\n",
       "      <td>2011</td>\n",
       "      <td>2012-02-18</td>\n",
       "      <td>Freiburg</td>\n",
       "      <td>Bayern Munich</td>\n",
       "      <td>0</td>\n",
       "      <td>0</td>\n",
       "      <td>D</td>\n",
       "      <td>0.00</td>\n",
       "    </tr>\n",
       "  </tbody>\n",
       "</table>\n",
       "</div>"
      ],
      "text/plain": [
       "   Match_ID Div  Season        Date   HomeTeam       AwayTeam  FTHG  FTAG FTR  \\\n",
       "0      1092  D1    2011  2012-03-31   Nurnberg  Bayern Munich     0     1   A   \n",
       "1      1093  D1    2011  2011-12-11  Stuttgart  Bayern Munich     1     2   A   \n",
       "2      1094  D1    2011  2011-08-13  Wolfsburg  Bayern Munich     0     1   A   \n",
       "3      1095  D1    2011  2011-11-27      Mainz  Bayern Munich     3     2   H   \n",
       "4      1096  D1    2011  2012-02-18   Freiburg  Bayern Munich     0     0   D   \n",
       "\n",
       "   Precip  \n",
       "0    0.92  \n",
       "1    0.00  \n",
       "2    0.00  \n",
       "3    0.00  \n",
       "4    0.00  "
      ]
     },
     "execution_count": 25,
     "metadata": {},
     "output_type": "execute_result"
    }
   ],
   "source": [
    "matches.head()"
   ]
  },
  {
   "cell_type": "code",
   "execution_count": null,
   "metadata": {},
   "outputs": [],
   "source": []
  },
  {
   "cell_type": "code",
   "execution_count": null,
   "metadata": {},
   "outputs": [],
   "source": [
    "matches['Rain'] = matches['Precip'].apply(lambda x: if x > .5 == )"
   ]
  },
  {
   "cell_type": "markdown",
   "metadata": {},
   "source": []
  },
  {
   "cell_type": "code",
   "execution_count": 27,
   "metadata": {},
   "outputs": [],
   "source": [
    "\n",
    "\n",
    "rain_days = len(matches[matches['Precip'] > .5])\n"
   ]
  },
  {
   "cell_type": "code",
   "execution_count": 28,
   "metadata": {},
   "outputs": [
    {
     "data": {
      "text/plain": [
       "220"
      ]
     },
     "execution_count": 28,
     "metadata": {},
     "output_type": "execute_result"
    }
   ],
   "source": [
    "rain_days"
   ]
  },
  {
   "cell_type": "code",
   "execution_count": 29,
   "metadata": {},
   "outputs": [],
   "source": [
    "clear_days = len(matches[matches['Precip']<.5])"
   ]
  },
  {
   "cell_type": "code",
   "execution_count": 30,
   "metadata": {},
   "outputs": [
    {
     "data": {
      "text/plain": [
       "772"
      ]
     },
     "execution_count": 30,
     "metadata": {},
     "output_type": "execute_result"
    }
   ],
   "source": [
    "clear_days"
   ]
  },
  {
   "cell_type": "code",
   "execution_count": 31,
   "metadata": {
    "scrolled": true
   },
   "outputs": [
    {
     "data": {
      "text/html": [
       "<div>\n",
       "<style scoped>\n",
       "    .dataframe tbody tr th:only-of-type {\n",
       "        vertical-align: middle;\n",
       "    }\n",
       "\n",
       "    .dataframe tbody tr th {\n",
       "        vertical-align: top;\n",
       "    }\n",
       "\n",
       "    .dataframe thead th {\n",
       "        text-align: right;\n",
       "    }\n",
       "</style>\n",
       "<table border=\"1\" class=\"dataframe\">\n",
       "  <thead>\n",
       "    <tr style=\"text-align: right;\">\n",
       "      <th></th>\n",
       "      <th>Match_ID</th>\n",
       "      <th>Div</th>\n",
       "      <th>Season</th>\n",
       "      <th>Date</th>\n",
       "      <th>HomeTeam</th>\n",
       "      <th>AwayTeam</th>\n",
       "      <th>FTHG</th>\n",
       "      <th>FTAG</th>\n",
       "      <th>FTR</th>\n",
       "      <th>Precip</th>\n",
       "    </tr>\n",
       "  </thead>\n",
       "  <tbody>\n",
       "    <tr>\n",
       "      <td>0</td>\n",
       "      <td>1092</td>\n",
       "      <td>D1</td>\n",
       "      <td>2011</td>\n",
       "      <td>2012-03-31</td>\n",
       "      <td>Nurnberg</td>\n",
       "      <td>Bayern Munich</td>\n",
       "      <td>0</td>\n",
       "      <td>1</td>\n",
       "      <td>A</td>\n",
       "      <td>0.92</td>\n",
       "    </tr>\n",
       "    <tr>\n",
       "      <td>1</td>\n",
       "      <td>1093</td>\n",
       "      <td>D1</td>\n",
       "      <td>2011</td>\n",
       "      <td>2011-12-11</td>\n",
       "      <td>Stuttgart</td>\n",
       "      <td>Bayern Munich</td>\n",
       "      <td>1</td>\n",
       "      <td>2</td>\n",
       "      <td>A</td>\n",
       "      <td>0.00</td>\n",
       "    </tr>\n",
       "    <tr>\n",
       "      <td>2</td>\n",
       "      <td>1094</td>\n",
       "      <td>D1</td>\n",
       "      <td>2011</td>\n",
       "      <td>2011-08-13</td>\n",
       "      <td>Wolfsburg</td>\n",
       "      <td>Bayern Munich</td>\n",
       "      <td>0</td>\n",
       "      <td>1</td>\n",
       "      <td>A</td>\n",
       "      <td>0.00</td>\n",
       "    </tr>\n",
       "    <tr>\n",
       "      <td>3</td>\n",
       "      <td>1095</td>\n",
       "      <td>D1</td>\n",
       "      <td>2011</td>\n",
       "      <td>2011-11-27</td>\n",
       "      <td>Mainz</td>\n",
       "      <td>Bayern Munich</td>\n",
       "      <td>3</td>\n",
       "      <td>2</td>\n",
       "      <td>H</td>\n",
       "      <td>0.00</td>\n",
       "    </tr>\n",
       "    <tr>\n",
       "      <td>4</td>\n",
       "      <td>1096</td>\n",
       "      <td>D1</td>\n",
       "      <td>2011</td>\n",
       "      <td>2012-02-18</td>\n",
       "      <td>Freiburg</td>\n",
       "      <td>Bayern Munich</td>\n",
       "      <td>0</td>\n",
       "      <td>0</td>\n",
       "      <td>D</td>\n",
       "      <td>0.00</td>\n",
       "    </tr>\n",
       "  </tbody>\n",
       "</table>\n",
       "</div>"
      ],
      "text/plain": [
       "   Match_ID Div  Season        Date   HomeTeam       AwayTeam  FTHG  FTAG FTR  \\\n",
       "0      1092  D1    2011  2012-03-31   Nurnberg  Bayern Munich     0     1   A   \n",
       "1      1093  D1    2011  2011-12-11  Stuttgart  Bayern Munich     1     2   A   \n",
       "2      1094  D1    2011  2011-08-13  Wolfsburg  Bayern Munich     0     1   A   \n",
       "3      1095  D1    2011  2011-11-27      Mainz  Bayern Munich     3     2   H   \n",
       "4      1096  D1    2011  2012-02-18   Freiburg  Bayern Munich     0     0   D   \n",
       "\n",
       "   Precip  \n",
       "0    0.92  \n",
       "1    0.00  \n",
       "2    0.00  \n",
       "3    0.00  \n",
       "4    0.00  "
      ]
     },
     "execution_count": 31,
     "metadata": {},
     "output_type": "execute_result"
    }
   ],
   "source": [
    "matches.head()"
   ]
  },
  {
   "cell_type": "code",
   "execution_count": 34,
   "metadata": {},
   "outputs": [],
   "source": [
    "teamswins = matches[matches['FTR']=='H'].groupby(matches['HomeTeam']).count()"
   ]
  },
  {
   "cell_type": "code",
   "execution_count": 35,
   "metadata": {},
   "outputs": [
    {
     "ename": "NameError",
     "evalue": "name 'df' is not defined",
     "output_type": "error",
     "traceback": [
      "\u001b[1;31m---------------------------------------------------------------------------\u001b[0m",
      "\u001b[1;31mNameError\u001b[0m                                 Traceback (most recent call last)",
      "\u001b[1;32m<ipython-input-35-f0d15fd5d075>\u001b[0m in \u001b[0;36m<module>\u001b[1;34m\u001b[0m\n\u001b[1;32m----> 1\u001b[1;33m \u001b[0mhomewins\u001b[0m \u001b[1;33m=\u001b[0m \u001b[0mdf\u001b[0m\u001b[1;33m[\u001b[0m\u001b[0mdf\u001b[0m\u001b[1;33m[\u001b[0m\u001b[1;34m'FTR'\u001b[0m\u001b[1;33m]\u001b[0m\u001b[1;33m==\u001b[0m\u001b[1;34m'H'\u001b[0m\u001b[1;33m]\u001b[0m\u001b[1;33m.\u001b[0m\u001b[0mgroupby\u001b[0m\u001b[1;33m(\u001b[0m\u001b[0mdf\u001b[0m\u001b[1;33m[\u001b[0m\u001b[1;34m'HomeTeam'\u001b[0m\u001b[1;33m]\u001b[0m\u001b[1;33m)\u001b[0m\u001b[1;33m.\u001b[0m\u001b[0mcount\u001b[0m\u001b[1;33m(\u001b[0m\u001b[1;33m)\u001b[0m\u001b[1;33m\u001b[0m\u001b[1;33m\u001b[0m\u001b[0m\n\u001b[0m",
      "\u001b[1;31mNameError\u001b[0m: name 'df' is not defined"
     ]
    }
   ],
   "source": [
    "#homewins = df[df['FTR']=='H'].groupby(df['HomeTeam']).count()"
   ]
  },
  {
   "cell_type": "code",
   "execution_count": 36,
   "metadata": {
    "scrolled": true
   },
   "outputs": [
    {
     "data": {
      "text/html": [
       "<div>\n",
       "<style scoped>\n",
       "    .dataframe tbody tr th:only-of-type {\n",
       "        vertical-align: middle;\n",
       "    }\n",
       "\n",
       "    .dataframe tbody tr th {\n",
       "        vertical-align: top;\n",
       "    }\n",
       "\n",
       "    .dataframe thead th {\n",
       "        text-align: right;\n",
       "    }\n",
       "</style>\n",
       "<table border=\"1\" class=\"dataframe\">\n",
       "  <thead>\n",
       "    <tr style=\"text-align: right;\">\n",
       "      <th></th>\n",
       "      <th>Match_ID</th>\n",
       "      <th>Div</th>\n",
       "      <th>Season</th>\n",
       "      <th>Date</th>\n",
       "      <th>HomeTeam</th>\n",
       "      <th>AwayTeam</th>\n",
       "      <th>FTHG</th>\n",
       "      <th>FTAG</th>\n",
       "      <th>FTR</th>\n",
       "      <th>Precip</th>\n",
       "    </tr>\n",
       "    <tr>\n",
       "      <th>HomeTeam</th>\n",
       "      <th></th>\n",
       "      <th></th>\n",
       "      <th></th>\n",
       "      <th></th>\n",
       "      <th></th>\n",
       "      <th></th>\n",
       "      <th></th>\n",
       "      <th></th>\n",
       "      <th></th>\n",
       "      <th></th>\n",
       "    </tr>\n",
       "  </thead>\n",
       "  <tbody>\n",
       "    <tr>\n",
       "      <td>Aachen</td>\n",
       "      <td>4</td>\n",
       "      <td>4</td>\n",
       "      <td>4</td>\n",
       "      <td>4</td>\n",
       "      <td>4</td>\n",
       "      <td>4</td>\n",
       "      <td>4</td>\n",
       "      <td>4</td>\n",
       "      <td>4</td>\n",
       "      <td>4</td>\n",
       "    </tr>\n",
       "    <tr>\n",
       "      <td>Arsenal</td>\n",
       "      <td>12</td>\n",
       "      <td>12</td>\n",
       "      <td>12</td>\n",
       "      <td>12</td>\n",
       "      <td>12</td>\n",
       "      <td>12</td>\n",
       "      <td>12</td>\n",
       "      <td>12</td>\n",
       "      <td>12</td>\n",
       "      <td>12</td>\n",
       "    </tr>\n",
       "    <tr>\n",
       "      <td>Aston Villa</td>\n",
       "      <td>4</td>\n",
       "      <td>4</td>\n",
       "      <td>4</td>\n",
       "      <td>4</td>\n",
       "      <td>4</td>\n",
       "      <td>4</td>\n",
       "      <td>4</td>\n",
       "      <td>4</td>\n",
       "      <td>4</td>\n",
       "      <td>4</td>\n",
       "    </tr>\n",
       "    <tr>\n",
       "      <td>Augsburg</td>\n",
       "      <td>6</td>\n",
       "      <td>6</td>\n",
       "      <td>6</td>\n",
       "      <td>6</td>\n",
       "      <td>6</td>\n",
       "      <td>6</td>\n",
       "      <td>6</td>\n",
       "      <td>6</td>\n",
       "      <td>6</td>\n",
       "      <td>6</td>\n",
       "    </tr>\n",
       "    <tr>\n",
       "      <td>Bayern Munich</td>\n",
       "      <td>14</td>\n",
       "      <td>14</td>\n",
       "      <td>14</td>\n",
       "      <td>14</td>\n",
       "      <td>14</td>\n",
       "      <td>14</td>\n",
       "      <td>14</td>\n",
       "      <td>14</td>\n",
       "      <td>14</td>\n",
       "      <td>14</td>\n",
       "    </tr>\n",
       "  </tbody>\n",
       "</table>\n",
       "</div>"
      ],
      "text/plain": [
       "               Match_ID  Div  Season  Date  HomeTeam  AwayTeam  FTHG  FTAG  \\\n",
       "HomeTeam                                                                     \n",
       "Aachen                4    4       4     4         4         4     4     4   \n",
       "Arsenal              12   12      12    12        12        12    12    12   \n",
       "Aston Villa           4    4       4     4         4         4     4     4   \n",
       "Augsburg              6    6       6     6         6         6     6     6   \n",
       "Bayern Munich        14   14      14    14        14        14    14    14   \n",
       "\n",
       "               FTR  Precip  \n",
       "HomeTeam                    \n",
       "Aachen           4       4  \n",
       "Arsenal         12      12  \n",
       "Aston Villa      4       4  \n",
       "Augsburg         6       6  \n",
       "Bayern Munich   14      14  "
      ]
     },
     "execution_count": 36,
     "metadata": {},
     "output_type": "execute_result"
    }
   ],
   "source": [
    "teamswins.head()"
   ]
  },
  {
   "cell_type": "markdown",
   "metadata": {},
   "source": [
    "# working on trying to clean this  up!!!"
   ]
  },
  {
   "cell_type": "code",
   "execution_count": 142,
   "metadata": {},
   "outputs": [],
   "source": [
    "def TeamList(self,df):\n",
    "\n",
    "    ht = list(df['HomeTeam'].unique())\n",
    "    at = list(df['AwayTeam'].unique())\n",
    "    len(ht)==len(at)\n",
    "\n",
    "    ## Make list of teams\n",
    "    ht.extend(at)\n",
    "    team_list = list(set(ht))\n",
    "\n",
    "\n",
    "   "
   ]
  },
  {
   "cell_type": "code",
   "execution_count": null,
   "metadata": {},
   "outputs": [],
   "source": []
  },
  {
   "cell_type": "code",
   "execution_count": 153,
   "metadata": {},
   "outputs": [],
   "source": [
    "class Team:\n",
    "    \n",
    "    def __init__(self,team,df):\n",
    "        #self.df = df\n",
    "        self.team = team\n",
    "        self.make_team(team,df)\n",
    "        self.Hist(team,df)\n",
    "   \n",
    "\n",
    "    def make_team(self,team,df):\n",
    "      \n",
    "            #df=self.df\n",
    "            self.total_wins = 0\n",
    "            self.total_loss = 0\n",
    "            self.total_goals = 0\n",
    "            self.rain_days = len(df[df['Precip'] > .5])\n",
    "            self.rain_wins = 0\n",
    "            self.percent_rainy_wins = (self.rain_wins/self.rain_days)*100\n",
    "\n",
    "            # get homegames ...maybe use function above instead?\n",
    "            h_df_team = df.groupby('HomeTeam').get_group(team)\n",
    "            val_counts = h_df_team['FTR'].value_counts()\n",
    "            self.total_wins+=val_counts['H'] \n",
    "            self.total_goals +=h_df_team['FTHG'].sum()\n",
    "            self.rain_wins+=sum((h_df_team['FTR'] =='H') & (h_df_team['Precip'] > .5))\n",
    "            self.total_home_games = len(h_df_team)\n",
    "\n",
    "            # get away ames \n",
    "            a_df_team = df.groupby('AwayTeam').get_group(team)\n",
    "            val_counts = a_df_team['FTR'].value_counts()\n",
    "            self.total_wins+=val_counts['A']\n",
    "            self.total_goals +=a_df_team['FTAG'].sum()\n",
    "            self.rain_wins+=sum((a_df_team['FTR'] =='A') & (a_df_team['Precip'] > .5))\n",
    "            self.total_away_games = len(a_df_team)\n",
    "            \n",
    "            self.total_games = self.total_home_games + self.total_away_games\n",
    "            self.total_losses = self.total_games - self.total_wins \n",
    "        \n",
    "   \n",
    "        \n",
    "              \n",
    "    def Hist(self, team, df):\n",
    "        fig,ax = plt.subplots()\n",
    "        ax = plt.bar(x=['wins','losses'],height=[self.total_wins,self.total_losses])\n",
    "        self.hist = \"histograms/\"+self.team+\".png\"\n",
    "        fig.savefig(self.hist)\n",
    "            \n",
    "            \n",
    "\n",
    "\n",
    "\n"
   ]
  },
  {
   "cell_type": "code",
   "execution_count": null,
   "metadata": {},
   "outputs": [],
   "source": []
  },
  {
   "cell_type": "code",
   "execution_count": 154,
   "metadata": {
    "scrolled": false
   },
   "outputs": [
    {
     "data": {
      "image/png": "[encoded data removed]",
      "text/plain": [
       "<Figure size 432x288 with 1 Axes>"
      ]
     },
     "metadata": {
      "needs_background": "light"
     },
     "output_type": "display_data"
    }
   ],
   "source": [
    "team = Team('Aachen', matches)"
   ]
  },
  {
   "cell_type": "code",
   "execution_count": 74,
   "metadata": {
    "scrolled": true
   },
   "outputs": [
    {
     "data": {
      "text/plain": [
       "__main__.Team"
      ]
     },
     "execution_count": 74,
     "metadata": {},
     "output_type": "execute_result"
    }
   ],
   "source": [
    "type(team)"
   ]
  },
  {
   "cell_type": "code",
   "execution_count": 105,
   "metadata": {},
   "outputs": [
    {
     "data": {
      "text/plain": [
       "30"
      ]
     },
     "execution_count": 105,
     "metadata": {},
     "output_type": "execute_result"
    }
   ],
   "source": [
    "team.total_goals"
   ]
  },
  {
   "cell_type": "code",
   "execution_count": 70,
   "metadata": {},
   "outputs": [],
   "source": [
    "team = Team(matches, tlist)"
   ]
  },
  {
   "cell_type": "code",
   "execution_count": 113,
   "metadata": {},
   "outputs": [],
   "source": [
    "class Team():\n",
    "    def __init__(self,df):\n",
    "        self.df = df\n",
    "        self.team_list = team_list\n",
    "        self.total_wins = total_wins\n",
    "        self.total_goals = total_goals\n",
    "        self.percent_rain_wins = percent_rain_wins\n",
    "       \n",
    "\n",
    "    def MakeTeam(self, df):        \n",
    "        \n",
    "        #hometeams and away teams\n",
    "        ht = list(df['HomeTeam'].unique())\n",
    "        at = list(df['AwayTeam'].unique())\n",
    "        len(ht)==len(at)\n",
    "\n",
    "        ## Make list of teams\n",
    "        ht.extend(at)\n",
    "        team_list = list(set(ht))\n",
    "           \n",
    "        total_wins = 0\n",
    "        total_losses = 0\n",
    "        total_goals = 0\n",
    "        rain_days = 0\n",
    "        rain_wins = 0\n",
    "        percent_rain_wins = (rain_wins/rain_days)*100\n",
    "\n",
    "        # get homegames \n",
    "        df_team = df.groupby('HomeTeam').get_group(team)\n",
    "        val_counts = df_team['FTR'].value_counts()\n",
    "        total_wins+=val_counts['H'] \n",
    "        total_losses += val_counts['A']\n",
    "        total_goals +=df_team['FTHG'].sum()\n",
    "        if df_team['Precip'] > .5:\n",
    "            rain_days += 1\n",
    "        elif df_team['FTR'] == 'H' & df_team['Precip'] >.5:\n",
    "            rain_wins +=1\n",
    "        else:\n",
    "            pass\n",
    "\n",
    "        # get away games \n",
    "        df_team = df.groupby('Awayteam').get_group(team)\n",
    "        val_counts = df_team['FTR'].value_counts()\n",
    "        total_wins+=val_counts['A']\n",
    "        total_losses+=val_counts['H']\n",
    "        total_goals +=df_team['FTAG'].sum()\n",
    "        if df_team['Precip'] > .5:\n",
    "            rain_days +=1\n",
    "        elif df_team['FTR'] == 'A' & df_team['Precip'] >.5:\n",
    "            rain_wins +=1\n",
    "        else:\n",
    "            pass\n",
    "        \n",
    "        \n",
    "        teamstats = pd.DataFrame(MakeTeam)\n",
    "        pd.columns = [team, total_wins, total_goals, rainy_days, rain_wins, percent_rainy_wins]\n",
    "        \n",
    "        return teamstats\n",
    "        \n",
    "            \n",
    "        \n",
    "    def Hist(self,df):\n",
    "        fig,ax = plt.subplots()\n",
    "        ax = plt.bar(x=['wins','losses'],height=[self.total_wins,self.total_losses])\n",
    "        self.hist = \"histograms/\"+self.name+\".png\"\n",
    "        fig.savefig(self.hist)\n",
    "\n",
    "\n",
    "\n"
   ]
  },
  {
   "cell_type": "code",
   "execution_count": 35,
   "metadata": {
    "scrolled": true
   },
   "outputs": [
    {
     "ename": "NameError",
     "evalue": "name 'MakeTeam' is not defined",
     "output_type": "error",
     "traceback": [
      "\u001b[1;31m---------------------------------------------------------------------------\u001b[0m",
      "\u001b[1;31mNameError\u001b[0m                                 Traceback (most recent call last)",
      "\u001b[1;32m<ipython-input-35-747a9cc3bcd9>\u001b[0m in \u001b[0;36m<module>\u001b[1;34m\u001b[0m\n\u001b[1;32m----> 1\u001b[1;33m \u001b[0mnewdf\u001b[0m \u001b[1;33m=\u001b[0m \u001b[0mMakeTeam\u001b[0m\u001b[1;33m(\u001b[0m\u001b[0mmatches\u001b[0m\u001b[1;33m)\u001b[0m\u001b[1;33m\u001b[0m\u001b[1;33m\u001b[0m\u001b[0m\n\u001b[0m\u001b[0;32m      2\u001b[0m \u001b[0mlen\u001b[0m\u001b[1;33m(\u001b[0m\u001b[0mnewdf\u001b[0m\u001b[1;33m)\u001b[0m\u001b[1;33m\u001b[0m\u001b[1;33m\u001b[0m\u001b[0m\n",
      "\u001b[1;31mNameError\u001b[0m: name 'MakeTeam' is not defined"
     ]
    }
   ],
   "source": [
    "newdf = MakeTeam(matches)\n",
    "len(newdf)"
   ]
  },
  {
   "cell_type": "code",
   "execution_count": null,
   "metadata": {},
   "outputs": [],
   "source": [
    "type(newdf)"
   ]
  },
  {
   "cell_type": "code",
   "execution_count": null,
   "metadata": {
    "scrolled": true
   },
   "outputs": [],
   "source": []
  },
  {
   "cell_type": "markdown",
   "metadata": {},
   "source": [
    "## Push to Mongo:"
   ]
  },
  {
   "cell_type": "code",
   "execution_count": null,
   "metadata": {},
   "outputs": [],
   "source": [
    "class MongoHandler(team):\n",
    "    pass"
   ]
  },
  {
   "cell_type": "markdown",
   "metadata": {},
   "source": [
    "# Summary\n",
    "\n",
    "In this lab, we dug deep and used everything we've learned so far about python programming, databases, HTTP requests and API calls to ETL data from a SQL database into a MongoDB instance!"
   ]
  },
  {
   "cell_type": "markdown",
   "metadata": {},
   "source": [
    "## Figure out how to fix this:"
   ]
  },
  {
   "cell_type": "markdown",
   "metadata": {},
   "source": [
    "make_team(matches)"
   ]
  },
  {
   "cell_type": "code",
   "execution_count": null,
   "metadata": {},
   "outputs": [],
   "source": [
    "### another idea:\n",
    "\n",
    "def TeamStats(self,df):\n",
    "    self.homegoals = homegoals\n",
    "    self.awaygoals = awaygoals\n",
    "    self.totalgoals = totalgoals\n",
    "    self.homewins = homewins\n",
    "    self.awaywins = awaywins\n",
    "    self.totalwins = totalwins\n",
    "    self.rainwins = rainwins\n",
    "    \n",
    "    homegoals = df['FTHG'].sum()\n",
    "    awaygoals = df['FTAG'].sum()\n",
    "    totalgoals = homegoals + awaygoals\n",
    "\n",
    "    homewins = df['HomeTeam'] & df['FTG'] == 'H'\n",
    "    awaywins = df['AwayTeam'] & df['FTG'] == 'A'\n",
    "    rainwins = df['HomeTeam] & df['FTG'] df['Precip'] > .5 \n",
    "    "
   ]
  },
  {
   "cell_type": "code",
   "execution_count": null,
   "metadata": {},
   "outputs": [],
   "source": [
    "###khans example \n",
    "\n",
    "class Team:\n",
    "    def __init__(self,name,df):\n",
    "        \n",
    "        self.name = name\n",
    "        self.tally_home(name,df)\n",
    "        self.tally_away(name,df)\n",
    "        self.rain_tally()\n",
    "        \n",
    "        self.all_matches = self.home_matches + self.away_matches\n",
    "        self.all_goals = self.home_goals + self.away_goals\n",
    "        self.all_wins = self.home_wins + self.away_wins\n",
    "        self.all_losses = self.all_matches - self.all_wins\n",
    "        self.rainy_win_percentage = (self.rainy_wins/self.rainy_days) * 100        \n",
    "        \n",
    "        self.histogram()\n",
    "    def tally_home(self,name,df):\n",
    "        home_matches_df = df[df['HomeTeam'] == name]        \n",
    "        \n",
    "        self.home_matches = len(home_matches_df)\n",
    "        self.home_goals = home_matches_df['FTHG'].sum()\n",
    "        self.home_wins = sum(home_matches_df['FTR'] == 'H')\n",
    "        \n",
    "        self.home_rainy_days = sum(home_matches_df['Precip'] >.5 )\n",
    "        self.home_rain_wins = sum((home_matches_df['FTR'] == 'H') & (home_matches_df['Precip'] > .5 ))\n",
    "            \n",
    "    def tally_away(self,name,df):\n",
    "        \n",
    "        away_matches_df = df[df['AwayTeam'] == name]        \n",
    "        \n",
    "        self.away_matches = len(away_matches_df)\n",
    "        self.away_goals = away_matches_df['FTAG'].sum()\n",
    "        self.away_wins = sum(away_matches_df['FTR'] == 'A')\n",
    "        \n",
    "        self.away_rainy_days = sum(away_matches_df['Precip'] > .5)\n",
    "        self.away_rain_wins = sum((away_matches_df['FTR'] == 'A') & (away_matches_df['Precip'] >.5 ))\n",
    "    \n",
    "    def rain_tally(self):\n",
    "        \n",
    "        self.rainy_days = self.home_rainy_days + self.away_rainy_days\n",
    "        self.rainy_wins = self.home_rain_wins + self.away_rain_wins\n",
    "    def histogram(self):\n",
    "        fig,ax = plt.subplots()\n",
    "        ax = plt.bar(x=['wins','losses'],height=[self.all_wins,self.all_losses])\n",
    "        self.hist = \"histograms/\"+self.name+\".png\"\n",
    "        fig.savefig(self.hist)"
   ]
  },
  {
   "cell_type": "code",
   "execution_count": null,
   "metadata": {},
   "outputs": [],
   "source": [
    "##probs not using but saving "
   ]
  },
  {
   "cell_type": "code",
   "execution_count": 63,
   "metadata": {},
   "outputs": [],
   "source": [
    "def CalcHomeWins(df):\n",
    "    \n",
    "    total_wins = 0\n",
    "    total_losses = 0\n",
    "    total_goals = 0\n",
    "    rain_days = len(df[df['Precip'] > .5])\n",
    "    rain_wins = 0\n",
    "    percent_rain_wins = (rain_wins/rain_days)*100\n",
    "\n",
    "    df_team = df.groupby('HomeTeam')\n",
    "    val_counts = df_team['FTR'].value_counts()\n",
    "    total_wins+=val_counts['H'] \n",
    "    total_losses += val_counts['A']\n",
    "    total_goals +=df_team['FTHG'].sum()\n",
    "    if df_team['FTR'] == 'H' & df[df['Precip'] >.5]:\n",
    "        rain_wins +=1\n",
    "    else:\n",
    "        pass"
   ]
  },
  {
   "cell_type": "code",
   "execution_count": null,
   "metadata": {},
   "outputs": [],
   "source": []
  },
  {
   "cell_type": "code",
   "execution_count": 50,
   "metadata": {},
   "outputs": [],
   "source": [
    "def HomeWins(df):\n",
    "\n",
    "        total_goals = sum(df[df['FTHG']])\n",
    "        total_wins = count(df[df['FTR'] == 'H'])\n",
    "        rain_wins = count(df[df['FTR'] == 'H']) & df[df['Precip']>.5]\n",
    "        return print(total_goals, total_wins, rain_wins)"
   ]
  }
 ],
 "metadata": {
  "kernelspec": {
   "display_name": "Python [conda env:learn-env] *",
   "language": "python",
   "name": "conda-env-learn-env-py"
  },
  "language_info": {
   "codemirror_mode": {
    "name": "ipython",
    "version": 3
   },
   "file_extension": ".py",
   "mimetype": "text/x-python",
   "name": "python",
   "nbconvert_exporter": "python",
   "pygments_lexer": "ipython3",
   "version": "3.6.9"
  },
  "toc": {
   "base_numbering": 1,
   "nav_menu": {},
   "number_sections": true,
   "sideBar": true,
   "skip_h1_title": false,
   "title_cell": "Table of Contents",
   "title_sidebar": "Contents",
   "toc_cell": false,
   "toc_position": {},
   "toc_section_display": true,
   "toc_window_display": true
  },
  "varInspector": {
   "cols": {
    "lenName": 16,
    "lenType": 16,
    "lenVar": 40
   },
   "kernels_config": {
    "python": {
     "delete_cmd_postfix": "",
     "delete_cmd_prefix": "del ",
     "library": "var_list.py",
     "varRefreshCmd": "print(var_dic_list())"
    },
    "r": {
     "delete_cmd_postfix": ") ",
     "delete_cmd_prefix": "rm(",
     "library": "var_list.r",
     "varRefreshCmd": "cat(var_dic_list()) "
    }
   },
   "position": {
    "height": "453px",
    "left": "1550px",
    "right": "20px",
    "top": "120px",
    "width": "350px"
   },
   "types_to_exclude": [
    "module",
    "function",
    "builtin_function_or_method",
    "instance",
    "_Feature"
   ],
   "window_display": true
  }
 },
 "nbformat": 4,
 "nbformat_minor": 2
}
